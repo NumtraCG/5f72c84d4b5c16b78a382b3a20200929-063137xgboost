{
 "cells": [
  {
   "cell_type": "markdown",
   "metadata": {},
   "source": [
    "***GENERATED CODE FOR xgboost PIPELINE.***"
   ]
  },
  {
   "cell_type": "markdown",
   "metadata": {},
   "source": [
    "***DON'T EDIT THIS CODE.***"
   ]
  },
  {
   "cell_type": "markdown",
   "metadata": {},
   "source": [
    "***CONNECTOR FUNCTIONS TO READ DATA FROM DATABRICKS FILESYSTEM.***"
   ]
  },
  {
   "cell_type": "code",
   "execution_count": null,
   "metadata": {},
   "outputs": [],
   "source": [
    "import datetime\n",
    "import logging\n",
    "import warnings\n",
    "warnings.filterwarnings('ignore')\n",
    "logging.basicConfig(format='%(levelname)s:%(message)s', level=logging.INFO)\n",
    "\n",
    "\n",
    "class DBFSConnector:\n",
    "\n",
    "    def fetch(spark, config):\n",
    "        df = spark.read.\\\n",
    "            options(header='true' if eval(config)[\"is_header\"] == \"Use Header Line\" else 'false',\n",
    "                    inferschema='true',\n",
    "                    delimiter=eval(config)[\"delimiter\"])\\\n",
    "            .csv(eval(config)['url'])\n",
    "        display(df.limit(2).toPandas())\n",
    "        return df\n",
    "\n",
    "    def put(df, spark, config):\n",
    "        return df.write.format('csv').options(header='true' if eval(config)[\"is_header\"] == \"Use Header Line\" else 'false',\n",
    "                                              delimiter=eval(config)[\"delimiter\"]).save((\"%s %s\") % (datetime.datetime.now().strftime(\"%Y-%m-%d %H.%M.%S\")+\"_\", eval(config)['url']))\n"
   ]
  },
  {
   "cell_type": "markdown",
   "metadata": {},
   "source": [
    "***TRANSFORMATIONS FUNCTIONS THAT WILL BE APPLIED ON DATA***"
   ]
  },
  {
   "cell_type": "code",
   "execution_count": null,
   "metadata": {},
   "outputs": [],
   "source": [
    "import json\n",
    "from pyspark.sql.types import IntegerType\n",
    "from pyspark.ml.feature import StringIndexer\n",
    "from pyspark.sql.functions import col, when\n",
    "from pyspark.sql.types import IntegerType\n",
    "from pyspark.sql.functions import mean, stddev, min, max, col\n",
    "\n",
    "\n",
    "class CleanseData:\n",
    "    # def __init__(self,df):\n",
    "    #     #print()\n",
    "\n",
    "    def replaceByMean(self, feature, df, mean_=-1):\n",
    "\n",
    "        meanValue = df.select(mean(col(feature.name)).alias(\n",
    "            'mean')).collect()[0][\"mean\"]\n",
    "        df.fillna(meanValue, subset=[feature.name])\n",
    "        df.withColumn(feature.name, when(col(feature.name) == \" \",\n",
    "                                         meanValue).otherwise(col(feature.name).cast(\"Integer\")))\n",
    "        return df\n",
    "\n",
    "    def replaceByMax(self, feature, df, max_=-1):\n",
    "        maxValue = df.select(max(col(feature.name)).alias('max')).collect()[\n",
    "            0][\"max\"]\n",
    "        df.fillna(maxValue, subset=[feature.name])\n",
    "        df = df.withColumn(feature.name,\n",
    "                           when(col(feature.name) == \" \", maxValue).otherwise(col(feature.name)))\n",
    "        return df\n",
    "\n",
    "    def replaceByMin(self, feature, df, min_=-1):\n",
    "        minValue = df.select(min(col(feature.name)).alias('min')).collect()[\n",
    "            0][\"min\"]\n",
    "        df.fillna(minValue, subset=[feature.name])\n",
    "        df = df.withColumn(feature.name,\n",
    "                           when(col(feature.name) == \" \", minValue).otherwise(col(feature.name)))\n",
    "        return df\n",
    "\n",
    "    def replaceByStandardDeviation(self, feature, df, stddev_=-1):\n",
    "        stddevValue = df.select(stddev(col(feature.name)).alias(\n",
    "            'stddev')).collect()[0][\"stddev\"]\n",
    "        df.fillna(stddevValue, subset=[feature.name])\n",
    "        df = df.withColumn(feature.name,\n",
    "                           when(col(feature.name) == \" \", stddevValue).otherwise(col(feature.name)))\n",
    "        return df\n",
    "\n",
    "    def replaceDateRandomly(self, feature, df):\n",
    "        fillValue = df.where(col(feature.name).isNotNull()\n",
    "                             ).head(1)[0][feature.name]\n",
    "        df.fillna(str(fillValue), subset=[feature.name])\n",
    "        df = df.withColumn(feature.name,\n",
    "                           when(col(feature.name) == \" \", fillValue).otherwise(col(feature.name)))\n",
    "        # print(\"CleanseData:replaceDateRandomly Schema : \", df.#printSchema())\n",
    "        return df\n",
    "\n",
    "    def replaceNullValues(self, fList, df):\n",
    "        featuresList = df.schema.fields\n",
    "        for featureObj in fList:\n",
    "            for feat in featuresList:\n",
    "                if featureObj[\"feature\"] in feat.name:\n",
    "                    featureName = feat\n",
    "                    if \"mean\" in featureObj[\"replaceby\"]:\n",
    "                        df = self.replaceByMean(featureName, df)\n",
    "                    elif \"max\" in featureObj[\"replaceby\"]:\n",
    "                        df = self.replaceByMax(featureName, df)\n",
    "                    elif \"min\" in featureObj[\"replaceby\"]:\n",
    "                        df = self.replaceByMin(featureName, df)\n",
    "                    elif \"stddev\" in featureObj[\"replaceby\"]:\n",
    "                        df = self.replaceByStandardDeviation(featureName, df)\n",
    "                    elif \"random\" in featureObj[\"replaceby\"]:\n",
    "                        df = self.replaceDateRandomly(featureName, df)\n",
    "        return df\n",
    "\n",
    "\n",
    "def StringIndexerTransform(df, params, transformationData={}):\n",
    "    dfReturn = df\n",
    "    feature = params[\"feature\"]\n",
    "\n",
    "    dfReturn = dfReturn.fillna({feature: ''})\n",
    "    outcol = feature + \"_stringindexer\"\n",
    "    indexer = StringIndexer(\n",
    "        inputCol=feature, outputCol=outcol, handleInvalid=\"skip\")\n",
    "    indexed = indexer.fit(dfReturn).transform(dfReturn)\n",
    "    dfReturn = indexed\n",
    "    distinct_values_list = dfReturn.select(\n",
    "        outcol).distinct().rdd.map(lambda r: r[0]).collect()\n",
    "    len_distinct_values_list = len(distinct_values_list)\n",
    "    if len_distinct_values_list <= 4:\n",
    "        changed_type_df = dfReturn.withColumn(\n",
    "            outcol, dfReturn[outcol].cast(IntegerType()))\n",
    "        return changed_type_df\n",
    "    return dfReturn\n",
    "\n",
    "\n",
    "class TransformationMain:\n",
    "    # TODO: change df argument in run with following\n",
    "    def run(transformationDF, config):\n",
    "        configObj = json.loads(config)\n",
    "        featureData = configObj[\"FE\"]\n",
    "        transformationDF = CleanseData().replaceNullValues(featureData, transformationDF)\n",
    "        transformationDF = StringIndexerTransform(transformationDF, {'transformationsData': [{'transformation_label': 'String Indexer', 'feature_label': 'ChargeDetailID0'}], 'feature': 'ChargeDetailID0', 'type': 'string', 'selected': 'True', 'replaceby': 'max', 'stats': {\n",
    "                                                  'count': '3042', 'mean': '', 'stddev': '', 'min': '0026482c-a666-4d83-8387-1febcab99514', 'max': 'fff4b81e-a247-4ec5-ab2f-edb605619ac3', 'missing': '0'}, 'transformation': [{'transformation': 'String Indexer', 'selectedAsDefault': 1}], 'updatedLabel': 'ChargeDetailID0'}, {'transformation_label': 'String Indexer', 'feature_label': 'ChargeDetailID0'})\n",
    "        transformationDF = transformationDF.drop('ChargeDetailID0')\n",
    "        transformationDF = StringIndexerTransform(transformationDF, {'transformationsData': [{'transformation_label': 'String Indexer', 'feature_label': 'RVUModifier'}], 'feature': 'RVUModifier', 'type': 'string', 'selected': 'True', 'replaceby': 'max', 'stats': {\n",
    "            'count': '3042', 'mean': '26.0', 'stddev': '0.0', 'min': '26', 'max': 'TC', 'missing': '0'}, 'transformation': [{'transformation': 'String Indexer', 'selectedAsDefault': 1}], 'updatedLabel': 'RVUModifier'}, {'transformation_label': 'String Indexer', 'feature_label': 'RVUModifier'})\n",
    "        transformationDF = transformationDF.drop('RVUModifier')\n",
    "        transformationDF = StringIndexerTransform(transformationDF, {'transformationsData': [{'transformation_label': 'String Indexer', 'feature_label': 'Gender'}], 'feature': 'Gender', 'type': 'string', 'selected': 'True', 'replaceby': 'max', 'stats': {\n",
    "            'count': '3042', 'mean': '', 'stddev': '', 'min': 'F', 'max': 'M', 'missing': '0'}, 'transformation': [{'transformation': 'String Indexer', 'selectedAsDefault': 1}], 'updatedLabel': 'Gender'}, {'transformation_label': 'String Indexer', 'feature_label': 'Gender'})\n",
    "        transformationDF = transformationDF.drop('Gender')\n",
    "        transformationDF = StringIndexerTransform(transformationDF, {'transformationsData': [{'transformation_label': 'String Indexer', 'feature_label': 'PayerName'}], 'feature': 'PayerName', 'type': 'string', 'selected': 'True', 'replaceby': 'max', 'stats': {\n",
    "            'count': '3042', 'mean': '', 'stddev': '', 'min': 'AARPMedicareComplete', 'max': 'WorkersComp', 'missing': '0'}, 'transformation': [{'transformation': 'String Indexer', 'selectedAsDefault': 1}], 'updatedLabel': 'PayerName'}, {'transformation_label': 'String Indexer', 'feature_label': 'PayerName'})\n",
    "        transformationDF = transformationDF.drop('PayerName')\n",
    "        transformationDF = StringIndexerTransform(transformationDF, {'transformationsData': [{'transformation_label': 'String Indexer', 'feature_label': 'PayerCategory'}], 'feature': 'PayerCategory', 'type': 'string', 'selected': 'True', 'replaceby': 'max', 'stats': {\n",
    "            'count': '3042', 'mean': '', 'stddev': '', 'min': 'Aetna', 'max': 'WorkComp', 'missing': '0'}, 'transformation': [{'transformation': 'String Indexer', 'selectedAsDefault': 1}], 'updatedLabel': 'PayerCategory'}, {'transformation_label': 'String Indexer', 'feature_label': 'PayerCategory'})\n",
    "        transformationDF = transformationDF.drop('PayerCategory')\n",
    "        transformationDF = StringIndexerTransform(transformationDF, {'transformationsData': [{'transformation_label': 'String Indexer', 'feature_label': 'PayerGroup'}], 'feature': 'PayerGroup', 'type': 'string', 'selected': 'True', 'replaceby': 'max', 'stats': {\n",
    "            'count': '3042', 'mean': '', 'stddev': '', 'min': 'Aetna', 'max': 'OtherGovernment', 'missing': '0'}, 'transformation': [{'transformation': 'String Indexer', 'selectedAsDefault': 1}], 'updatedLabel': 'PayerGroup'}, {'transformation_label': 'String Indexer', 'feature_label': 'PayerGroup'})\n",
    "        transformationDF = transformationDF.drop('PayerGroup')\n",
    "        transformationDF = StringIndexerTransform(transformationDF, {'transformationsData': [{'transformation_label': 'String Indexer', 'feature_label': 'SourceKey58'}], 'feature': 'SourceKey58', 'type': 'string', 'selected': 'True', 'replaceby': 'max', 'stats': {\n",
    "            'count': '3042', 'mean': '', 'stddev': '', 'min': 'CO109', 'max': 'PR96', 'missing': '0'}, 'transformation': [{'transformation': 'String Indexer', 'selectedAsDefault': 1}], 'updatedLabel': 'SourceKey58'}, {'transformation_label': 'String Indexer', 'feature_label': 'SourceKey58'})\n",
    "        transformationDF = transformationDF.drop('SourceKey58')\n",
    "        transformationDF = StringIndexerTransform(transformationDF, {'transformationsData': [{'transformation_label': 'String Indexer', 'feature_label': 'ReasonDate'}], 'feature': 'ReasonDate', 'type': 'string', 'selected': 'True', 'replaceby': 'max', 'stats': {\n",
    "            'count': '3042', 'mean': '', 'stddev': '', 'min': '01/05/2020', 'max': '31/03/2020', 'missing': '0'}, 'transformation': [{'transformation': 'String Indexer', 'selectedAsDefault': 1}], 'updatedLabel': 'ReasonDate'}, {'transformation_label': 'String Indexer', 'feature_label': 'ReasonDate'})\n",
    "        transformationDF = transformationDF.drop('ReasonDate')\n",
    "        transformationDF = StringIndexerTransform(transformationDF, {'transformationsData': [{'transformation_label': 'String Indexer', 'feature_label': 'FacilityID63'}], 'feature': 'FacilityID63', 'type': 'string', 'selected': 'True', 'replaceby': 'max', 'stats': {\n",
    "            'count': '3042', 'mean': '', 'stddev': '', 'min': '087613d0-c7f3-4bcd-900a-abbc6ee3bdad', 'max': 'fde71f17-372e-4cde-95a7-d8b9b45a015a', 'missing': '0'}, 'transformation': [{'transformation': 'String Indexer', 'selectedAsDefault': 1}], 'updatedLabel': 'FacilityID63'}, {'transformation_label': 'String Indexer', 'feature_label': 'FacilityID63'})\n",
    "        transformationDF = transformationDF.drop('FacilityID63')\n",
    "        transformationDF = StringIndexerTransform(transformationDF, {'transformationsData': [{'transformation_label': 'String Indexer', 'feature_label': 'DepartmentID'}], 'feature': 'DepartmentID', 'type': 'string', 'selected': 'True', 'replaceby': 'max', 'stats': {\n",
    "            'count': '3042', 'mean': '', 'stddev': '', 'min': '0a414089-7b3a-4378-ba12-23a2d7272bcf', 'max': 'fb68b47d-bad4-42c2-9ad0-9816864ea30a', 'missing': '0'}, 'transformation': [{'transformation': 'String Indexer', 'selectedAsDefault': 1}], 'updatedLabel': 'DepartmentID'}, {'transformation_label': 'String Indexer', 'feature_label': 'DepartmentID'})\n",
    "        transformationDF = transformationDF.drop('DepartmentID')\n",
    "        display(transformationDF.limit(2).toPandas())\n",
    "        return transformationDF\n"
   ]
  },
  {
   "cell_type": "markdown",
   "metadata": {},
   "source": [
    "***AUTOML FUNCTIONS***"
   ]
  },
  {
   "cell_type": "code",
   "execution_count": null,
   "metadata": {},
   "outputs": [],
   "source": []
  },
  {
   "cell_type": "markdown",
   "metadata": {},
   "source": [
    "***READING DATAFRAME***"
   ]
  },
  {
   "cell_type": "code",
   "execution_count": null,
   "metadata": {},
   "outputs": [],
   "source": [
    "from pyspark.sql import SparkSession\n",
    "spark = SparkSession.builder.getOrCreate()\n",
    "\n",
    "#%run xgboostHooks.ipynb\n",
    "try:\n",
    "\t#sourcePreExecutionHook()\n",
    "\n",
    "\tdbfs = DBFSConnector.fetch(spark, \"{'url': '/Whitespace/whitespace_Classification_denails.csv', 'file_type': 'Delimeted', 'delimiter': ',', 'is_header': 'Use Header Line'}\")\n",
    "\t#sourcePostExecutionHook(dbfs)\n",
    "\n",
    "except Exception as ex: \n",
    "\tlogging.error(ex)\n"
   ]
  },
  {
   "cell_type": "markdown",
   "metadata": {},
   "source": [
    "***TRANSFORMING DATAFRAME***"
   ]
  },
  {
   "cell_type": "code",
   "execution_count": null,
   "metadata": {},
   "outputs": [],
   "source": [
    "#%run xgboostHooks.ipynb\n",
    "try:\n",
    "\t#transformationPreExecutionHook()\n",
    "\n",
    "\tmanualfe = TransformationMain.run(dbfs,json.dumps( {\"FE\": [{\"transformationsData\": [{\"transformation_label\": \"String Indexer\", \"feature_label\": \"ChargeDetailID0\"}], \"feature\": \"ChargeDetailID0\", \"type\": \"string\", \"selected\": \"True\", \"replaceby\": \"max\", \"stats\": {\"count\": \"3042\", \"mean\": \"\", \"stddev\": \"\", \"min\": \"0026482c-a666-4d83-8387-1febcab99514\", \"max\": \"fff4b81e-a247-4ec5-ab2f-edb605619ac3\", \"missing\": \"0\"}, \"transformation\": [{\"transformation\": \"String Indexer\", \"selectedAsDefault\": 1}], \"updatedLabel\": \"ChargeDetailID0\"}, {\"transformationsData\": [{\"transformation_label\": \"novalue\"}], \"feature\": \"Amount1\", \"type\": \"real\", \"selected\": \"True\", \"replaceby\": \"mean\", \"stats\": {\"count\": \"3042\", \"mean\": \"233.29\", \"stddev\": \"573.23\", \"min\": \"4.0\", \"max\": \"23900.0\", \"missing\": \"0\"}, \"transformation\": [{\"transformation\": \"novalue\", \"selectedAsDefault\": 1}], \"updatedLabel\": \"Amount1\"}, {\"transformationsData\": [{\"transformation_label\": \"novalue\"}], \"feature\": \"Amount2\", \"type\": \"real\", \"selected\": \"True\", \"replaceby\": \"mean\", \"stats\": {\"count\": \"3042\", \"mean\": \"84.55\", \"stddev\": \"184.2\", \"min\": \"-566.3\", \"max\": \"3368.38\", \"missing\": \"0\"}, \"transformation\": [{\"transformation\": \"novalue\", \"selectedAsDefault\": 1}], \"updatedLabel\": \"Amount2\"}, {\"transformationsData\": [{\"transformation_label\": \"novalue\"}], \"feature\": \"CPTCodeID3\", \"transformation\": [{\"transformation\": \"novalue\", \"selectedAsDefault\": 1}], \"type\": \"numeric\", \"replaceby\": \"mean\", \"selected\": \"True\", \"stats\": {\"count\": \"3042\", \"mean\": \"1733.23\", \"stddev\": \"1207.04\", \"min\": \"1\", \"max\": \"4079\", \"missing\": \"0\"}, \"updatedLabel\": \"CPTCodeID3\"}, {\"transformationsData\": [{\"transformation_label\": \"novalue\"}], \"feature\": \"DiagnosisCodeID2\", \"transformation\": [{\"transformation\": \"novalue\", \"selectedAsDefault\": 1}], \"type\": \"numeric\", \"replaceby\": \"mean\", \"selected\": \"True\", \"stats\": {\"count\": \"3042\", \"mean\": \"29769.92\", \"stddev\": \"22492.44\", \"min\": \"13501\", \"max\": \"94911\", \"missing\": \"0\"}, \"updatedLabel\": \"DiagnosisCodeID2\"}, {\"transformationsData\": [{\"transformation_label\": \"novalue\"}], \"feature\": \"DiagnosisCodeID1\", \"transformation\": [{\"transformation\": \"novalue\", \"selectedAsDefault\": 1}], \"type\": \"numeric\", \"replaceby\": \"mean\", \"selected\": \"True\", \"stats\": {\"count\": \"3042\", \"mean\": \"38125.66\", \"stddev\": \"20760.23\", \"min\": \"13571\", \"max\": \"94819\", \"missing\": \"0\"}, \"updatedLabel\": \"DiagnosisCodeID1\"}, {\"transformationsData\": [{\"transformation_label\": \"String Indexer\", \"feature_label\": \"RVUModifier\"}], \"feature\": \"RVUModifier\", \"type\": \"string\", \"selected\": \"True\", \"replaceby\": \"max\", \"stats\": {\"count\": \"3042\", \"mean\": \"26.0\", \"stddev\": \"0.0\", \"min\": \"26\", \"max\": \"TC\", \"missing\": \"0\"}, \"transformation\": [{\"transformation\": \"String Indexer\", \"selectedAsDefault\": 1}], \"updatedLabel\": \"RVUModifier\"}, {\"transformationsData\": [{\"transformation_label\": \"String Indexer\", \"feature_label\": \"Gender\"}], \"feature\": \"Gender\", \"type\": \"string\", \"selected\": \"True\", \"replaceby\": \"max\", \"stats\": {\"count\": \"3042\", \"mean\": \"\", \"stddev\": \"\", \"min\": \"F\", \"max\": \"M\", \"missing\": \"0\"}, \"transformation\": [{\"transformation\": \"String Indexer\", \"selectedAsDefault\": 1}], \"updatedLabel\": \"Gender\"}, {\"transformationsData\": [{\"transformation_label\": \"novalue\"}], \"feature\": \"EnterpriseID18\", \"transformation\": [{\"transformation\": \"novalue\", \"selectedAsDefault\": 1}], \"type\": \"numeric\", \"replaceby\": \"mean\", \"selected\": \"True\", \"stats\": {\"count\": \"3042\", \"mean\": \"1.0\", \"stddev\": \"0.06\", \"min\": \"1\", \"max\": \"2\", \"missing\": \"0\"}, \"updatedLabel\": \"EnterpriseID18\"}, {\"transformationsData\": [{\"transformation_label\": \"String Indexer\", \"feature_label\": \"PayerName\"}], \"feature\": \"PayerName\", \"type\": \"string\", \"selected\": \"True\", \"replaceby\": \"max\", \"stats\": {\"count\": \"3042\", \"mean\": \"\", \"stddev\": \"\", \"min\": \"AARPMedicareComplete\", \"max\": \"WorkersComp\", \"missing\": \"0\"}, \"transformation\": [{\"transformation\": \"String Indexer\", \"selectedAsDefault\": 1}], \"updatedLabel\": \"PayerName\"}, {\"transformationsData\": [{\"transformation_label\": \"String Indexer\", \"feature_label\": \"PayerCategory\"}], \"feature\": \"PayerCategory\", \"type\": \"string\", \"selected\": \"True\", \"replaceby\": \"max\", \"stats\": {\"count\": \"3042\", \"mean\": \"\", \"stddev\": \"\", \"min\": \"Aetna\", \"max\": \"WorkComp\", \"missing\": \"0\"}, \"transformation\": [{\"transformation\": \"String Indexer\", \"selectedAsDefault\": 1}], \"updatedLabel\": \"PayerCategory\"}, {\"transformationsData\": [{\"transformation_label\": \"String Indexer\", \"feature_label\": \"PayerGroup\"}], \"feature\": \"PayerGroup\", \"type\": \"string\", \"selected\": \"True\", \"replaceby\": \"max\", \"stats\": {\"count\": \"3042\", \"mean\": \"\", \"stddev\": \"\", \"min\": \"Aetna\", \"max\": \"OtherGovernment\", \"missing\": \"0\"}, \"transformation\": [{\"transformation\": \"String Indexer\", \"selectedAsDefault\": 1}], \"updatedLabel\": \"PayerGroup\"}, {\"transformationsData\": [{\"transformation_label\": \"novalue\"}], \"feature\": \"SpecialityID\", \"transformation\": [{\"transformation\": \"novalue\", \"selectedAsDefault\": 1}], \"type\": \"numeric\", \"replaceby\": \"mean\", \"selected\": \"True\", \"stats\": {\"count\": \"3042\", \"mean\": \"35.98\", \"stddev\": \"30.4\", \"min\": \"-1\", \"max\": \"120\", \"missing\": \"0\"}, \"updatedLabel\": \"SpecialityID\"}, {\"transformationsData\": [{\"transformation_label\": \"novalue\"}], \"feature\": \"TaxonomyID\", \"transformation\": [{\"transformation\": \"novalue\", \"selectedAsDefault\": 1}], \"type\": \"numeric\", \"replaceby\": \"mean\", \"selected\": \"True\", \"stats\": {\"count\": \"3042\", \"mean\": \"352.15\", \"stddev\": \"167.51\", \"min\": \"-1\", \"max\": \"770\", \"missing\": \"0\"}, \"updatedLabel\": \"TaxonomyID\"}, {\"transformationsData\": [{\"transformation_label\": \"String Indexer\", \"feature_label\": \"SourceKey58\"}], \"feature\": \"SourceKey58\", \"type\": \"string\", \"selected\": \"True\", \"replaceby\": \"max\", \"stats\": {\"count\": \"3042\", \"mean\": \"\", \"stddev\": \"\", \"min\": \"CO109\", \"max\": \"PR96\", \"missing\": \"0\"}, \"transformation\": [{\"transformation\": \"String Indexer\", \"selectedAsDefault\": 1}], \"updatedLabel\": \"SourceKey58\"}, {\"transformationsData\": [{\"transformation_label\": \"novalue\"}], \"feature\": \"Amount59\", \"type\": \"real\", \"selected\": \"True\", \"replaceby\": \"mean\", \"stats\": {\"count\": \"3042\", \"mean\": \"233.29\", \"stddev\": \"573.23\", \"min\": \"4.0\", \"max\": \"23900.0\", \"missing\": \"0\"}, \"transformation\": [{\"transformation\": \"novalue\", \"selectedAsDefault\": 1}], \"updatedLabel\": \"Amount59\"}, {\"transformationsData\": [{\"transformation_label\": \"String Indexer\", \"feature_label\": \"ReasonDate\"}], \"feature\": \"ReasonDate\", \"type\": \"string\", \"selected\": \"True\", \"replaceby\": \"max\", \"stats\": {\"count\": \"3042\", \"mean\": \"\", \"stddev\": \"\", \"min\": \"01/05/2020\", \"max\": \"31/03/2020\", \"missing\": \"0\"}, \"transformation\": [{\"transformation\": \"String Indexer\", \"selectedAsDefault\": 1}], \"updatedLabel\": \"ReasonDate\"}, {\"transformationsData\": [{\"transformation_label\": \"novalue\"}], \"feature\": \"PracticeID\", \"transformation\": [{\"transformation\": \"novalue\", \"selectedAsDefault\": 1}], \"type\": \"numeric\", \"replaceby\": \"mean\", \"selected\": \"True\", \"stats\": {\"count\": \"3042\", \"mean\": \"1.0\", \"stddev\": \"0.06\", \"min\": \"1\", \"max\": \"2\", \"missing\": \"0\"}, \"updatedLabel\": \"PracticeID\"}, {\"transformationsData\": [{\"transformation_label\": \"String Indexer\", \"feature_label\": \"FacilityID63\"}], \"feature\": \"FacilityID63\", \"type\": \"string\", \"selected\": \"True\", \"replaceby\": \"max\", \"stats\": {\"count\": \"3042\", \"mean\": \"\", \"stddev\": \"\", \"min\": \"087613d0-c7f3-4bcd-900a-abbc6ee3bdad\", \"max\": \"fde71f17-372e-4cde-95a7-d8b9b45a015a\", \"missing\": \"0\"}, \"transformation\": [{\"transformation\": \"String Indexer\", \"selectedAsDefault\": 1}], \"updatedLabel\": \"FacilityID63\"}, {\"transformationsData\": [{\"transformation_label\": \"novalue\"}], \"feature\": \"CPTCodeID66\", \"transformation\": [{\"transformation\": \"novalue\", \"selectedAsDefault\": 1}], \"type\": \"numeric\", \"replaceby\": \"mean\", \"selected\": \"True\", \"stats\": {\"count\": \"3042\", \"mean\": \"1733.23\", \"stddev\": \"1207.04\", \"min\": \"1\", \"max\": \"4079\", \"missing\": \"0\"}, \"updatedLabel\": \"CPTCodeID66\"}, {\"transformationsData\": [{\"transformation_label\": \"String Indexer\", \"feature_label\": \"DepartmentID\"}], \"feature\": \"DepartmentID\", \"type\": \"string\", \"selected\": \"True\", \"replaceby\": \"max\", \"stats\": {\"count\": \"3042\", \"mean\": \"\", \"stddev\": \"\", \"min\": \"0a414089-7b3a-4378-ba12-23a2d7272bcf\", \"max\": \"fb68b47d-bad4-42c2-9ad0-9816864ea30a\", \"missing\": \"0\"}, \"transformation\": [{\"transformation\": \"String Indexer\", \"selectedAsDefault\": 1}], \"updatedLabel\": \"DepartmentID\"}, {\"transformationsData\": [{\"transformation_label\": \"novalue\"}], \"feature\": \"status\", \"transformation\": [{\"transformation\": \"novalue\", \"selectedAsDefault\": 1}], \"type\": \"numeric\", \"replaceby\": \"mean\", \"selected\": \"True\", \"stats\": {\"count\": \"3042\", \"mean\": \"0.49\", \"stddev\": \"0.5\", \"min\": \"0\", \"max\": \"1\", \"missing\": \"0\"}, \"updatedLabel\": \"status\"}]}))\n",
    "\n",
    "\t#transformationPostExecutionHook(manualfe)\n",
    "\n",
    "except Exception as ex: \n",
    "\tlogging.error(ex)\n"
   ]
  },
  {
   "cell_type": "markdown",
   "metadata": {},
   "source": [
    "***TRAIN MODEL***"
   ]
  },
  {
   "cell_type": "code",
   "execution_count": null,
   "metadata": {},
   "outputs": [],
   "source": [
    "#%run xgboostHooks.ipynb\n",
    "try:\n",
    "\t#mlPreExecutionHook()\n",
    "\n",
    "\tdataAutoML=XG-Boost-classifier(manualfe, [\"ChargeDetailID0_stringindexer\", \"Amount1\", \"Amount2\", \"CPTCodeID3\", \"DiagnosisCodeID2\", \"DiagnosisCodeID1\", \"RVUModifier_stringindexer\", \"Gender_stringindexer\", \"EnterpriseID18\", \"PayerName_stringindexer\", \"PayerCategory_stringindexer\", \"PayerGroup_stringindexer\", \"SpecialityID\", \"TaxonomyID\", \"SourceKey58_stringindexer\", \"Amount59\", \"ReasonDate_stringindexer\", \"PracticeID\", \"FacilityID63_stringindexer\", \"CPTCodeID66\", \"DepartmentID_stringindexer\"], \"status\")\n",
    "\n",
    "\t#mlPostExecutionHook(dataAutoML)\n",
    "\n",
    "except Exception as ex: \n",
    "\tlogging.error(ex)\n"
   ]
  }
 ],
 "metadata": {},
 "nbformat": 4,
 "nbformat_minor": 4
}
